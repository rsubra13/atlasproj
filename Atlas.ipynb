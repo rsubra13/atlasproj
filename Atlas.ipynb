{
 "metadata": {
  "name": "",
  "signature": "sha256:de71c4ebe6131f4cd2ef84a9728fd5c4a45500cdd5b00c0e0bf485e5fb3912df"
 },
 "nbformat": 3,
 "nbformat_minor": 0,
 "worksheets": [
  {
   "cells": [
    {
     "cell_type": "code",
     "collapsed": false,
     "input": [
      "# Things to be noted. \n",
      "\n",
      "\"\"\"\n",
      "Input string should contain all possible test cases. a) Mentions b) URL c) Emoticons\n",
      "\n",
      "\"\"\""
     ],
     "language": "python",
     "metadata": {},
     "outputs": [
      {
       "metadata": {},
       "output_type": "pyout",
       "prompt_number": 1,
       "text": [
        "'\\n\\n'"
       ]
      }
     ],
     "prompt_number": 1
    },
    {
     "cell_type": "code",
     "collapsed": false,
     "input": [
      "import re\n",
      "import json\n",
      "\n",
      "def decode(input_str):\n",
      "    print input_str\n",
      "\n",
      "\n",
      "input_str = raw_input(\"Please enter the Input string :   \")\n",
      "decode(input_str)\n"
     ],
     "language": "python",
     "metadata": {},
     "outputs": [
      {
       "name": "stdout",
       "output_type": "stream",
       "stream": "stdout",
       "text": [
        "Please enter the Input string :   Hi Ramki (Coffee) https::URL.com\n"
       ]
      },
      {
       "output_type": "stream",
       "stream": "stdout",
       "text": [
        "Hi Ramki (Coffee) https::URL.com\n"
       ]
      }
     ],
     "prompt_number": 7
    },
    {
     "cell_type": "code",
     "collapsed": false,
     "input": [],
     "language": "python",
     "metadata": {},
     "outputs": []
    }
   ],
   "metadata": {}
  }
 ]
}