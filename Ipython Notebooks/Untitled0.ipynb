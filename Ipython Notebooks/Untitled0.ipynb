{
 "metadata": {
  "name": "Untitled0"
 },
 "nbformat": 3,
 "nbformat_minor": 0,
 "worksheets": [
  {
   "cells": [
    {
     "cell_type": "code",
     "collapsed": false,
     "input": [
      "di = [(1, '{\\n    \"emoticons\": [\\n        \"awesome\", \\n        &  , u'user1'), (2, '{\\n    \"emoticons\": [\\n        \"Smilaey\", \\n        &  , u'user1'), (3, '{\\n    \"emoticons\": [\\n        \"smiley\", \\n        &q  , u'user1'), (4, '{\\n    \"emoticons\": [\\n        \"smiley\", \\n        &q  , u'user1'), (5, '{\\n    \"emoticons\": [\\n        \"smiley\"\\n    ], \\n      , u'user1'), (6, '{\\n    \"emoticons\": [\\n        \"smiley\"\\n    ], \\n      , u'user1'), (7, '{\\n    \"emoticons\": [\\n        \"smiley\"\\n    ], \\n      , u'user1'), (8, '{\\n    \"emoticons\": [\\n        \"smiley\"\\n    ], \\n      , u'user1'), (9, '{\\n    \"emoticons\": [\\n        \"augusta jasjd\", \\n     , u'user1'), (10, '{\\n    \"emoticons\": [\\n        \"coffee\", \\n        &q  , u'user1'), (11, '{\\n    \"emoticons\": [\\n        \"coffee\", \\n        &q  , u'user1'), (12, '{\\n    \"emoticons\": [\\n        \"coffee\", \\n        &q  , u'user1'), (13, '{\\n    \"emoticons\": [\\n        \"coffee\", \\n        &q  , u'user1'), (14, '{\\n    \"emoticons\": [\\n        \"coffee\", \\n        &q  , u'user1'), (15, '{\\n    \"emoticons\": [\\n        \"coffee\", \\n        &q  , u'user1'), (16, '{\\n    \"emoticons\": [\\n        \"coffee\", \\n        &q  , u'user1'), (17, '{\\n    \"emoticons\": [\\n        \"coffee\", \\n        &q  , u'user1'), (18, '{\\n    \"emoticons\": [\\n        \"coffee\", \\n        &q  , u'user1'), (19, \"\"{'emoticons': [u'coffee', u'megusta'], 'links': [{'url': u'http:  , u'user1'), (20, \"\"{'emoticons': [u'coffee', u'megusta'], 'links': [{'url': u'http:  , u'user1'), (21, \"\"{'emoticons': [u'coffee', u'megusta'], 'links': [{'url': u'http:  , u'user1'), (22, '{\\n    \"emoticons\": [\\n        \"coffee\", \\n        &q  , u'user1'), (23, '{\\n    \"emoticons\": [\\n        \"coffee\", \\n        &q  , u'user1'), (24, '{\\n    \"emoticons\": [\\n        \"coffee\", \\n        &q  , u'user1'), (25, '{\\n    \"emoticons\": [\\n        \"coffee\", \\n        &q  , u'user1'), (26, '{\\n    \"emoticons\": [\\n        \"coffee\", \\n        &q  , u'user1'), (27, '{\\n    \"emoticons\": [\\n        \"coffee\", \\n        &q  , u'user1'), (28, '{\\n    \"emoticons\": [\\n        \"coffee\", \\n        &q  , u'user1'), (29, '{\\n    \"emoticons\": [\\n        \"coffee\", \\n        &q  , u'user1'), (30, '{\\n    \"emoticons\": [\\n        \"coffee\", \\n        &q  , u'user1'), (31, '{\\n    \"emoticons\": [\\n        \"coffee\", \\n        &q  , u'user1'), (32, '{\\n    \"emoticons\": [\\n        \"augusta jasjd\", \\n     , u'user1'), (33, '{\\n    \"emoticons\": [\\n        \"augusta jasjd\", \\n     , u'user1'), (34, '{\\n    \"emoticons\": [\\n        \"augusta jasjd\", \\n     , u'user1'), (35, '{\\n    \"emoticons\": [\\n        \"augusta jasjd\", \\n     , u'user1'), (36, '{\\n    \"emoticons\": [\\n        \"augusta jasjd\", \\n     , u'user1'), (37, '{\\n    \"emoticons\": [\\n        \"augusta jasjd\", \\n     , u'user1'), (38, '{\\n    \"emoticons\": [\\n        \"augusta jasjd\", \\n     , u'user1'), (39, '{\\n    \"emoticons\": [\\n        \"augusta jasjd\", \\n     , u'user1'), (40, '{\\n    \"emoticons\": [\\n        \"success\"\\n    ], \\n     , u'user1'), (41, '{\\n    \"emoticons\": [\\n        \"smiley\"\\n    ], \\n      , u'user1'), (42, '{\\n    \"emoticons\": [\\n        \"smiley\"\\n    ], \\n      , u'user1'), (43, '{\\n    \"emoticons\": [\\n        \"smiley\"\\n    ], \\n      , u'user1')  ]"
     ],
     "language": "python",
     "metadata": {},
     "outputs": []
    }
   ],
   "metadata": {}
  }
 ]
}