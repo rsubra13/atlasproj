{
 "metadata": {
  "name": "Atlas",
  "signature": "sha256:de71c4ebe6131f4cd2ef84a9728fd5c4a45500cdd5b00c0e0bf485e5fb3912df"
 },
 "nbformat": 3,
 "nbformat_minor": 0,
 "worksheets": [
  {
   "cells": [
    {
     "cell_type": "code",
     "collapsed": false,
     "input": [
      "# Things to be noted. \n",
      "\n",
      "\"\"\"\n",
      "Input string should contain all possible test cases. a) Mentions b) URL c) Emoticons\n",
      "\n",
      "Test cases:\n",
      "-----------\n",
      "\"Hi @Ramki how are you?\"\n",
      "\"Hi, Ramki, How u doing??\"\n",
      "\"Hello (smiles) @ramki , How you doing?\"\n",
      "\"Hello (smiles) @ramki (Coffee)! Where shall we go?\" \n",
      "\"Hey @Bot294i4 (angry) !! Where is my git notification , you idiot(stern face)???\" \n",
      "\"Here is the state of my car!! (sic) https://cars/hummer/{id}/vehicle_state\"\n",
      "\"(Happy)Did you notice the tinyurls?? @Ramki!! (happy)..They are awesome. http://tinyurl.com/mz4k345d\" \n",
      "\"http://www.springerlink.com/link.asp?id=62728, Ramki check this paper!!\"\n",
      "\"(sic)(spoiley)http://www.bing.com/permanent/?request=get-archive&isbn=0342-8244,Ramki!!(Boo Yeah)(Happy)\"\n",
      "\"This is a great site @Mark !! (Smiles) , http://firstsearch.oclc.org/dbname=WorldCat;done=referer;FSIP, get this one as well, the bigger one @Nicholas\n",
      "https://firstsearch.oclc.org/WebZ/FSPrefs?entityjsdetect=:javascript=true:\n",
      "screensize=large:sessionid=fsapp3-36672-f5pysd37-7ipve9:entitypagenum=1:0\".\n",
      "\n",
      "\"\"\""
     ],
     "language": "python",
     "metadata": {},
     "outputs": [
      {
       "metadata": {},
       "output_type": "pyout",
       "prompt_number": 1,
       "text": [
        "'\\n\\n'"
       ]
      }
     ],
     "prompt_number": 1
    },
    {
     "cell_type": "code",
     "collapsed": false,
     "input": [
      "import re\n",
      "import json\n",
      "\n",
      "\n",
      "n1=list()\n",
      "n2=list()\n",
      "n3=set()\n",
      "\n",
      "def decode(input_str):\n",
      "    #print input_str\n",
      "    match = re.compile(r'[a-z]')\n",
      "    emoticons = re.findall(r'(\\(.*?\\)+) | (\\@.*?) ', input_str)\n",
      "    mentions = re.findall(r'(\\@.*?) ', input_str)\n",
      "    url = re.findall(r'http[s].* ', input_str)\n",
      "    print \"emoticons::\",emoticons\n",
      "    \n",
      " #        try:\n",
      " #            if em[0]:\n",
      " #                print em[0]\n",
      " #                n1.add(em[0])\n",
      " #            if em[1]:\n",
      " #                n2.add(em[1])\n",
      " #            if em[2]:\n",
      " #                n3.add(em[2])\n",
      " #        except :\n",
      " #            pass\n",
      "        \n",
      " #        #n3.append(em[2])\n",
      " #    print \"n1:\\n\",n1\n",
      " #    print \"n2:\\n\",n2\n",
      " #    print \"n3:\", n3\n",
      " #    print match\n",
      "      \n",
      "#input_str = raw_input(\"Please enter the Input string :   \") # commented for windows\n",
      "\n",
      "input_str=\"(sic)(spoiley)http://www.bing.com/permanent/?request=get-archive&isbn=0342-8244,@Ramki!!(Boo Yeah)(Happy)\"\n",
      "decode(input_str)\n"
     ],
     "language": "python",
     "metadata": {},
     "outputs": [
      {
       "output_type": "stream",
       "stream": "stdout",
       "text": [
        "emoticons:: []\n"
       ]
      }
     ],
     "prompt_number": 5
    },
    {
     "cell_type": "code",
     "collapsed": false,
     "input": [
      "# New: \n",
      "\n",
      "import re\n",
      "import json\n",
      "\n",
      "\n",
      "n1=list()\n",
      "n2=list()\n",
      "n3=set()\n",
      "\n",
      "def decode(input_str):\n",
      "    #print input_str\n",
      "    match = re.compile(r'[a-z]')\n",
      "    emoticons = re.findall(r'(\\(.*?\\)) ', input_str)\n",
      "    mentions = re.findall(r'(\\@.*\\w[^\\W]) ', input_str)\n",
      "    \n",
      "    url = re.findall(r'(?i)\\b ( (?:https?:// | www\\d{0,3}[.]*))',input_str)\n",
      "                     \n",
      "    print \"emoticons::\",emoticons\n",
      "    print \"mentions\", mentions\n",
      "    print \"url\", url\n",
      "    \n",
      " # for em in emoticons:\n",
      " #        try:\n",
      " #            if em[0]:\n",
      " #                print em[0]\n",
      " #                n1.add(em[0])\n",
      " #            if em[1]:\n",
      " #                n2.add(em[1])\n",
      " #            if em[2]:\n",
      " #                n3.add(em[2])\n",
      " #        except :\n",
      " #            pass\n",
      "        \n",
      " #        #n3.append(em[2])\n",
      " #    print \"n1:\\n\",n1\n",
      " #    print \"n2:\\n\",n2\n",
      " #    print \"n3:\", n3\n",
      " #    print match\n",
      "      \n",
      "#input_str = raw_input(\"Please enter the Input string :   \") # commented for windows\n",
      "\n",
      "input_str=\"(sic)(spoiley)@Ramki!!(Boo Yeah)(Happy)\"\n",
      "#input_str = \"(Happy)Did you notice the tinyurls?? @Ramki!! (happy)..They are awesome. http://tinyurl.com/mz4k345d\" \n",
      "decode(input_str)\n"
     ],
     "language": "python",
     "metadata": {},
     "outputs": [
      {
       "output_type": "stream",
       "stream": "stdout",
       "text": [
        "emoticons:: []\n",
        "mentions ['@Ramki!!(Boo']\n",
        "url []\n"
       ]
      }
     ],
     "prompt_number": 29
    },
    {
     "cell_type": "code",
     "collapsed": false,
     "input": [
      "import re\n",
      "import json\n",
      "\n",
      "main={}\n",
      "#string = \"Oncdadad@e httpe:SAASd (have) @Ramki asdasdasda @RajeshSubra8 98 sadasdasdsdadadas #(swaasd79des) accomplished small (adadasd) things, you may(123456 Mike Jack) attempt great ones.\"\n",
      "string = \"(Happy)Did you @notic adadadfase!!! the tinyurls?? @Ramki!! adsas daasd(happy) @Rajeshh SD asdassdasdsa..They are awesome. http://tinyurl.com/mz4k345d @Ramki adadasdasd\" \n",
      "emoticons = re.findall(r\"(\\([\\w\\s]{1,15}\\).*?)\", string)   # \\s for whitespace ( to handle multiword names like Michael Jackson , \\w for alphanumeric ( to handle usernames like mike999)\n",
      "emoticons = [em.strip('()')for em in emoticons]\n",
      "main['emoticons'] = emoticons\n",
      "print emoticons\n",
      "\n",
      "# Previous method\n",
      "# e = re.findall(r\"(\\B(?:\\@)[\\w\\S]*.*?)\", string) # \\B to catch the @ in the start of the word \\S- to handle only singleword values\n",
      "# \\B to catch the @ in the start of the word\n",
      "# \\S- to handle only singleword values\n",
      "\n",
      "mentions = re.findall(r\"((?:\\@)[\\w.]+)\", string) \n",
      "mentions = [i.strip('@') for i in mentions]\n",
      "main['mentions'] = mentions\n",
      "print mentions\n",
      "\n",
      "\n",
      "url = re.findall(r\"(http[^\\s]+).*?\",string)\n",
      "print url\n",
      "\n",
      "\n",
      "print json.dumps(main,sort_keys=True,indent=4)\n",
      "#for ne in patt:\n",
      " #   print ne.group()\n",
      "\n"
     ],
     "language": "python",
     "metadata": {},
     "outputs": [
      {
       "ename": "NameError",
       "evalue": "name 'main' is not defined",
       "output_type": "pyerr",
       "traceback": [
        "\u001b[1;31m---------------------------------------------------------------------------\u001b[0m\n\u001b[1;31mNameError\u001b[0m                                 Traceback (most recent call last)",
        "\u001b[1;32m<ipython-input-1-ab54ba886d60>\u001b[0m in \u001b[0;36m<module>\u001b[1;34m()\u001b[0m\n\u001b[0;32m      7\u001b[0m \u001b[0memoticons\u001b[0m \u001b[1;33m=\u001b[0m \u001b[0mre\u001b[0m\u001b[1;33m.\u001b[0m\u001b[0mfindall\u001b[0m\u001b[1;33m(\u001b[0m\u001b[1;34mr\"(\\([\\w\\s]{1,15}\\).*?)\"\u001b[0m\u001b[1;33m,\u001b[0m \u001b[0mstring\u001b[0m\u001b[1;33m)\u001b[0m   \u001b[1;31m# \\s for whitespace ( to handle multiword names like Michael Jackson , \\w for alphanumeric ( to handle usernames like mike999)\u001b[0m\u001b[1;33m\u001b[0m\u001b[0m\n\u001b[0;32m      8\u001b[0m \u001b[0memoticons\u001b[0m \u001b[1;33m=\u001b[0m \u001b[1;33m[\u001b[0m\u001b[0mem\u001b[0m\u001b[1;33m.\u001b[0m\u001b[0mstrip\u001b[0m\u001b[1;33m(\u001b[0m\u001b[1;34m'()'\u001b[0m\u001b[1;33m)\u001b[0m\u001b[1;32mfor\u001b[0m \u001b[0mem\u001b[0m \u001b[1;32min\u001b[0m \u001b[0memoticons\u001b[0m\u001b[1;33m]\u001b[0m\u001b[1;33m\u001b[0m\u001b[0m\n\u001b[1;32m----> 9\u001b[1;33m \u001b[0mmain\u001b[0m\u001b[1;33m[\u001b[0m\u001b[1;34m'emoticons'\u001b[0m\u001b[1;33m]\u001b[0m \u001b[1;33m=\u001b[0m \u001b[0memoticons\u001b[0m\u001b[1;33m\u001b[0m\u001b[0m\n\u001b[0m\u001b[0;32m     10\u001b[0m \u001b[1;32mprint\u001b[0m \u001b[0memoticons\u001b[0m\u001b[1;33m\u001b[0m\u001b[0m\n\u001b[0;32m     11\u001b[0m \u001b[1;33m\u001b[0m\u001b[0m\n",
        "\u001b[1;31mNameError\u001b[0m: name 'main' is not defined"
       ]
      }
     ],
     "prompt_number": 1
    }
   ],
   "metadata": {}
  }
 ]
}