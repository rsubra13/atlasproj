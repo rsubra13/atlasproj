{
 "metadata": {
  "name": "try"
 },
 "nbformat": 3,
 "nbformat_minor": 0,
 "worksheets": [
  {
   "cells": [
    {
     "cell_type": "code",
     "collapsed": false,
     "input": [
      "myarr = [[i*j for i in xrange(2)] for j in xrange(3)]\n",
      "myarr\n",
      "\n"
     ],
     "language": "python",
     "metadata": {},
     "outputs": [
      {
       "output_type": "pyout",
       "prompt_number": 7,
       "text": [
        "[[0, 0], [0, 1], [0, 2]]"
       ]
      }
     ],
     "prompt_number": 7
    }
   ],
   "metadata": {}
  }
 ]
}