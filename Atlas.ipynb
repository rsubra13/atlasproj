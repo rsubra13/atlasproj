{
 "metadata": {
  "name": "Atlas",
  "signature": "sha256:de71c4ebe6131f4cd2ef84a9728fd5c4a45500cdd5b00c0e0bf485e5fb3912df"
 },
 "nbformat": 3,
 "nbformat_minor": 0,
 "worksheets": [
  {
   "cells": [
    {
     "cell_type": "code",
     "collapsed": false,
     "input": [
      "# Things to be noted. \n",
      "\n",
      "\"\"\"\n",
      "Input string should contain all possible test cases. a) Mentions b) URL c) Emoticons\n",
      "\n",
      "Test cases:\n",
      "-----------\n",
      "\"Hi @Ramki how are you?\"\n",
      "\"Hi, Ramki, How u doing??\"\n",
      "\"Hello (smiles) @ramki , How you doing?\"\n",
      "\"Hello (smiles) @ramki (Coffee)! Where shall we go?\" \n",
      "\"Hey @Bot294i4 (angry) !! Where is my git notification , you idiot(stern face)???\" \n",
      "\"Here is the state of my car!! (sic) https://cars/hummer/{id}/vehicle_state\"\n",
      "\"(Happy)Did you notice the tinyurls?? @Ramki!! (happy)..They are awesome. http://tinyurl.com/mz4k345d\" \n",
      "\"http://www.springerlink.com/link.asp?id=62728, Ramki check this paper!!\"\n",
      "\"(sic)(spoiley)http://www.bing.com/permanent/?request=get-archive&isbn=0342-8244,Ramki!!(Boo Yeah)(Happy)\"\n",
      "\"This is a great site @Mark !! (Smiles) , http://firstsearch.oclc.org/dbname=WorldCat;done=referer;FSIP, get this one as well, the bigger one @Nicholas\n",
      "https://firstsearch.oclc.org/WebZ/FSPrefs?entityjsdetect=:javascript=true:\n",
      "screensize=large:sessionid=fsapp3-36672-f5pysd37-7ipve9:entitypagenum=1:0\".\n",
      "\n",
      "\"\"\""
     ],
     "language": "python",
     "metadata": {},
     "outputs": [
      {
       "metadata": {},
       "output_type": "pyout",
       "prompt_number": 1,
       "text": [
        "'\\n\\n'"
       ]
      }
     ],
     "prompt_number": 1
    },
    {
     "cell_type": "code",
     "collapsed": false,
     "input": [
      "import re\n",
      "import json\n",
      "\n",
      "def decode(input_str):\n",
      "    #print input_str\n",
      "    match = re.compile(r'[a-z]')\n",
      "    emoticons = re.findall(r'(\\(.*?\\)+)', input_str)\n",
      "    mentions = re.findall(r'(^@.*)',input_str)\n",
      "    print \"emoticons::\",emoticons\n",
      "    print \"mentions\", mentions\n",
      "    print match\n",
      "   \n",
      "\n",
      "\n",
      "#input_str = raw_input(\"Please enter the Input string :   \") # commented for windows\n",
      "\n",
      "input_str= \"Hello (smiles) @ramki , (coffee)) (:))) How you doing?\"\n",
      "decode(input_str)\n"
     ],
     "language": "python",
     "metadata": {},
     "outputs": [
      {
       "output_type": "stream",
       "stream": "stdout",
       "text": [
        "emoticons:: ['(smiles)', '(coffee))', '(:)))']\n",
        "<_sre.SRE_Pattern object at 0x00000000031BDB70>\n"
       ]
      }
     ],
     "prompt_number": 30
    },
    {
     "cell_type": "code",
     "collapsed": false,
     "input": [],
     "language": "python",
     "metadata": {},
     "outputs": [
      {
       "output_type": "stream",
       "stream": "stdout",
       "text": [
        "\n"
       ]
      },
      {
       "output_type": "pyout",
       "prompt_number": 1,
       "text": [
        "'Hi'"
       ]
      }
     ],
     "prompt_number": 1
    }
   ],
   "metadata": {}
  }
 ]
}