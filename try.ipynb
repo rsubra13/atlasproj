{
 "metadata": {
  "name": "try"
 },
 "nbformat": 3,
 "nbformat_minor": 0,
 "worksheets": [
  {
   "cells": [
    {
     "cell_type": "code",
     "collapsed": false,
     "input": [
      "myarr = [[i*j for i in xrange(2)] for j in xrange(3)]\n",
      "myarr\n",
      "\n"
     ],
     "language": "python",
     "metadata": {},
     "outputs": [
      {
       "output_type": "pyout",
       "prompt_number": 7,
       "text": [
        "[[0, 0], [0, 1], [0, 2]]"
       ]
      }
     ],
     "prompt_number": 7
    },
    {
     "cell_type": "code",
     "collapsed": false,
     "input": [
      "l = [(1, '{\\n    \"emoticons\": [\\n        \"awesome\", \\n        &quot;Smiley\"\\n    ], \\n    \"links\": [\\n        {\\n            \"id\": 0, \\n            \"title\": \"Beautiful Soup Documentation \\\\u2014 Beautiful Soup 4.2.0 documentation\", \\n            \"url\": \"http://www.crummy.com/software/BeautifulSoup/bs4/doc/\"\\n        }\\n    ], \\n    \"mentions\": [\\n        \"Ramki\"\\n    ], \\n    \"message_time\": \"Sun Mar 08 04:22:09 2015\"\\n}'  , u'user1'), (2, '{\\n    \"emoticons\": [\\n        \"Smilaey\", \\n        &quot;awesome\", \\n        \"Smiley\", \\n        \"angry\", \\n        \"Angry \"\\n    ], \\n    \"links\": [\\n        {\\n            \"id\": 0, \\n            \"title\": \"Beautiful Soup Documentation \\\\u2014 Beautiful Soup 4.2.0 documentation\", \\n            \"url\": \"http://www.crummy.com/software/BeautifulSoup/bs4/doc/\"\\n        }, \\n        {\\n            \"id\": 1, \\n            \"title\": \"\\\\\"Friends\\\\\" The One Where Everybody Finds Out (TV Episode 1999) - IMDb\", \\n            \"url\": \"http://www.imdb.com/title/tt0583452/?ref_=tt_eps_rhs_1\"\\n        }\\n    ], \\n    \"mentions\": [\\n        \"Ramki\", \\n        \"jacob18\"\\n    ], \\n    \"message_time\": \"Sun Mar 08 04:39:10 2015\"\\n}'  , u'user1')]"
     ],
     "language": "python",
     "metadata": {},
     "outputs": [],
     "prompt_number": 2
    },
    {
     "cell_type": "code",
     "collapsed": false,
     "input": [
      "for u in l:\n",
      "    print type(u)"
     ],
     "language": "python",
     "metadata": {},
     "outputs": [
      {
       "output_type": "stream",
       "stream": "stdout",
       "text": [
        "hi (1, '{\\n    \"emoticons\": [\\n        \"awesome\", \\n        &quot;Smiley\"\\n    ], \\n    \"links\": [\\n        {\\n            \"id\": 0, \\n            \"title\": \"Beautiful Soup Documentation \\\\u2014 Beautiful Soup 4.2.0 documentation\", \\n            \"url\": \"http://www.crummy.com/software/BeautifulSoup/bs4/doc/\"\\n        }\\n    ], \\n    \"mentions\": [\\n        \"Ramki\"\\n    ], \\n    \"message_time\": \"Sun Mar 08 04:22:09 2015\"\\n}', u'user1')\n",
        "hi (2, '{\\n    \"emoticons\": [\\n        \"Smilaey\", \\n        &quot;awesome\", \\n        \"Smiley\", \\n        \"angry\", \\n        \"Angry \"\\n    ], \\n    \"links\": [\\n        {\\n            \"id\": 0, \\n            \"title\": \"Beautiful Soup Documentation \\\\u2014 Beautiful Soup 4.2.0 documentation\", \\n            \"url\": \"http://www.crummy.com/software/BeautifulSoup/bs4/doc/\"\\n        }, \\n        {\\n            \"id\": 1, \\n            \"title\": \"\\\\\"Friends\\\\\" The One Where Everybody Finds Out (TV Episode 1999) - IMDb\", \\n            \"url\": \"http://www.imdb.com/title/tt0583452/?ref_=tt_eps_rhs_1\"\\n        }\\n    ], \\n    \"mentions\": [\\n        \"Ramki\", \\n        \"jacob18\"\\n    ], \\n    \"message_time\": \"Sun Mar 08 04:39:10 2015\"\\n}', u'user1')\n"
       ]
      }
     ],
     "prompt_number": 5
    }
   ],
   "metadata": {}
  }
 ]
}